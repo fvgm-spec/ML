{
 "cells": [
  {
   "cell_type": "markdown",
   "id": "43d8b6ad",
   "metadata": {},
   "source": [
    "# Predicción de fuga de clientes (Customer Churn Prediction) aplicando técnicas de Machine Learning"
   ]
  },
  {
   "cell_type": "code",
   "execution_count": 1,
   "id": "111b5c6e",
   "metadata": {},
   "outputs": [],
   "source": [
    "# Tratamiento de datos\n",
    "# ==============================================================================\n",
    "import numpy as np\n",
    "import pandas as pd\n",
    "from tabulate import tabulate\n",
    "\n",
    "#Option to display all the columns of the dataframe\n",
    "pd.pandas.set_option('display.max_columns',None)\n",
    "\n",
    "# Gráficos\n",
    "# ==============================================================================\n",
    "import matplotlib.pyplot as plt\n",
    "from matplotlib import style\n",
    "import matplotlib.ticker as ticker\n",
    "import seaborn as sns\n",
    "\n",
    "# Estadísticos\n",
    "# ==============================================================================\n",
    "from scipy.stats import kurtosis, skew, stats\n",
    "from math import sqrt\n",
    "from numpy import mean, var\n",
    "from fitter import Fitter\n",
    "\n",
    "# Varios\n",
    "# ==============================================================================\n",
    "from pandas_profiling import ProfileReport\n",
    "\n",
    "# Configuración matplotlib\n",
    "# ==============================================================================\n",
    "plt.rcParams['image.cmap'] = \"bwr\"\n",
    "#plt.rcParams['figure.dpi'] = \"100\"\n",
    "plt.rcParams['savefig.bbox'] = \"tight\"\n",
    "style.use('ggplot') or plt.style.use('ggplot')\n",
    "\n",
    "# Configuración warnings\n",
    "# ==============================================================================\n",
    "import warnings\n",
    "import os\n",
    "warnings.filterwarnings('ignore')"
   ]
  },
  {
   "cell_type": "markdown",
   "id": "8e769de3",
   "metadata": {},
   "source": [
    "# Análisis exploratorio"
   ]
  },
  {
   "cell_type": "markdown",
   "id": "629d536d",
   "metadata": {},
   "source": [
    "Preevio a comenzar a importar los datos en nuestro notebook, creamos una serie de funciones que nos servirán para el análisis de los mismos."
   ]
  },
  {
   "cell_type": "code",
   "execution_count": 2,
   "id": "20765e25",
   "metadata": {},
   "outputs": [
    {
     "name": "stdout",
     "output_type": "stream",
     "text": [
      "\n",
      "La ruta de donde se leen los datos a analizar se encuentra en D:\\Dev\\ML\\data\n"
     ]
    }
   ],
   "source": [
    "# Muestra el directorio en donde esta nuestro proyecto\n",
    "os.getcwd()\n",
    "\n",
    "# Cambia la ruta a 1 directorio atras de la actual\n",
    "os.chdir('../')\n",
    "# Crea la variable 'path' con la ruta que contiene la data para el análisis\n",
    "path = os.getcwd() + '\\data'\n",
    "print(f'\\nLa ruta de donde se leen los datos a analizar se encuentra en {path}')\n",
    "\n",
    "# Funciones para tratamiento de datos\n",
    "# ==============================================================================\n",
    "\n",
    "# Esta funcion lee el archivo csv indicado dentro de la carpeta data\n",
    "def read_data():\n",
    "    temp_df = pd.read_csv(path + '\\\\insurance.csv')#Cambiar el nombre de archivo que se vaya a analizar\n",
    "    return temp_df\n",
    "\n",
    "# Renombra las columnas indicadas \n",
    "def normalize_column_names(temp_df):\n",
    "    return temp_df.rename(columns={\"age\":\"edad\",\n",
    "                                   \"sex\":\"sexo\",\n",
    "                                   \"bmi\":\"imc\",\n",
    "                                   \"steps\":\"pasos\",\n",
    "                                   \"children\":\"hijos\",\n",
    "                                   \"smoker\":\"fumador\",\n",
    "                                   \"charges\":\"cargos\",\n",
    "                                   \"insuranceclaim\":\"fugas\"})\n",
    "\n",
    "# Borra columnas no deseadas en el dataframe\n",
    "def drop_noisy_columns(temp_df):\n",
    "    return temp_df.drop(columns=[\" \"])\n",
    "\n",
    "# Cambia los tipos de datos\n",
    "def normalize_dtypes(temp_df):\n",
    "    return temp_df.astype({\" \": bool, \" \": str})\n",
    "\n",
    "# Ordena los datos de acuerdo a determinada columna\n",
    "def sort_uni_ranking(temp_df):\n",
    "    return temp_df.sort_values(by=\" \")\n",
    "\n"
   ]
  },
  {
   "cell_type": "code",
   "execution_count": 3,
   "id": "98c6316f",
   "metadata": {},
   "outputs": [
    {
     "data": {
      "text/html": [
       "<div>\n",
       "<style scoped>\n",
       "    .dataframe tbody tr th:only-of-type {\n",
       "        vertical-align: middle;\n",
       "    }\n",
       "\n",
       "    .dataframe tbody tr th {\n",
       "        vertical-align: top;\n",
       "    }\n",
       "\n",
       "    .dataframe thead th {\n",
       "        text-align: right;\n",
       "    }\n",
       "</style>\n",
       "<table border=\"1\" class=\"dataframe\">\n",
       "  <thead>\n",
       "    <tr style=\"text-align: right;\">\n",
       "      <th></th>\n",
       "      <th>age</th>\n",
       "      <th>sex</th>\n",
       "      <th>bmi</th>\n",
       "      <th>children</th>\n",
       "      <th>smoker</th>\n",
       "      <th>region</th>\n",
       "      <th>charges</th>\n",
       "      <th>churns</th>\n",
       "    </tr>\n",
       "  </thead>\n",
       "  <tbody>\n",
       "    <tr>\n",
       "      <th>0</th>\n",
       "      <td>19</td>\n",
       "      <td>0</td>\n",
       "      <td>27.900</td>\n",
       "      <td>0</td>\n",
       "      <td>1</td>\n",
       "      <td>3</td>\n",
       "      <td>16884.92400</td>\n",
       "      <td>1</td>\n",
       "    </tr>\n",
       "    <tr>\n",
       "      <th>1</th>\n",
       "      <td>18</td>\n",
       "      <td>1</td>\n",
       "      <td>33.770</td>\n",
       "      <td>1</td>\n",
       "      <td>0</td>\n",
       "      <td>2</td>\n",
       "      <td>1725.55230</td>\n",
       "      <td>1</td>\n",
       "    </tr>\n",
       "    <tr>\n",
       "      <th>2</th>\n",
       "      <td>28</td>\n",
       "      <td>1</td>\n",
       "      <td>33.000</td>\n",
       "      <td>3</td>\n",
       "      <td>0</td>\n",
       "      <td>2</td>\n",
       "      <td>4449.46200</td>\n",
       "      <td>0</td>\n",
       "    </tr>\n",
       "    <tr>\n",
       "      <th>3</th>\n",
       "      <td>33</td>\n",
       "      <td>1</td>\n",
       "      <td>22.705</td>\n",
       "      <td>0</td>\n",
       "      <td>0</td>\n",
       "      <td>1</td>\n",
       "      <td>21984.47061</td>\n",
       "      <td>0</td>\n",
       "    </tr>\n",
       "    <tr>\n",
       "      <th>4</th>\n",
       "      <td>32</td>\n",
       "      <td>1</td>\n",
       "      <td>28.880</td>\n",
       "      <td>0</td>\n",
       "      <td>0</td>\n",
       "      <td>1</td>\n",
       "      <td>3866.85520</td>\n",
       "      <td>1</td>\n",
       "    </tr>\n",
       "  </tbody>\n",
       "</table>\n",
       "</div>"
      ],
      "text/plain": [
       "   age  sex     bmi  children  smoker  region      charges  churns\n",
       "0   19    0  27.900         0       1       3  16884.92400       1\n",
       "1   18    1  33.770         1       0       2   1725.55230       1\n",
       "2   28    1  33.000         3       0       2   4449.46200       0\n",
       "3   33    1  22.705         0       0       1  21984.47061       0\n",
       "4   32    1  28.880         0       0       1   3866.85520       1"
      ]
     },
     "execution_count": 3,
     "metadata": {},
     "output_type": "execute_result"
    }
   ],
   "source": [
    "#dataframe de muestra\n",
    "raw = pd.read_csv('D:\\Dev\\ML\\data\\insurance_churn\\insurance.csv')\n",
    "temp = raw.rename(columns={\"insuranceclaim\":\"churns\"})\n",
    "    \n",
    "temp.head()"
   ]
  },
  {
   "cell_type": "code",
   "execution_count": null,
   "id": "537b1ed7",
   "metadata": {},
   "outputs": [],
   "source": []
  },
  {
   "cell_type": "markdown",
   "id": "5efd8577",
   "metadata": {},
   "source": [
    "## Importando los datos\n",
    "\n",
    "Antes de proceder a estimar o entrenar cualquier modelo predictivo, o incluso antes de realizar cualquier cálculo con un nuevo conjunto de datos, es de vital importancia el proceso de exploración descriptiva de los mismos. Esta metodología permite entender de una mejor manera la información a la que nos enfrentamos en nuestro análisis, así como el contenido y el tipo de cada variable, así como también es posible detectar errores presentes en los datos, como por ejemplo:\n",
    "\n",
    "Que una columna se haya almacenado de forma incorrecta (una variable numérica siendo reconocida como texto o viceversa).\n",
    "Que una variable contenga valores que no tienen sentido (por ejemplo, para indicar que no se dispone del precio de una vivienda se introduce el valor 0 o un espacio en blanco).\n",
    "Que en una variable numérica se haya introducido una palabra en lugar de un número.\n",
    "\n",
    "Además, este análisis previo nos puede dar pistas sobre qué variables son adecuadas como predictores en un modelo.\n"
   ]
  },
  {
   "cell_type": "code",
   "execution_count": 4,
   "id": "2e65dd35",
   "metadata": {},
   "outputs": [
    {
     "data": {
      "text/plain": [
       "Index(['edad', 'sexo', 'imc', 'pasos', 'hijos', 'fumador', 'region', 'cargos',\n",
       "       'fugas'],\n",
       "      dtype='object')"
      ]
     },
     "execution_count": 4,
     "metadata": {},
     "output_type": "execute_result"
    }
   ],
   "source": [
    "# Se hace uso de las funciones anteriormente creadas para este fin\n",
    "df = (read_data() #lee los datos\n",
    "     .pipe(normalize_column_names)) #normaliza los nombres de columna\n",
    "\n",
    "df.columns"
   ]
  },
  {
   "cell_type": "code",
   "execution_count": 5,
   "id": "8ca72cf9",
   "metadata": {},
   "outputs": [
    {
     "name": "stdout",
     "output_type": "stream",
     "text": [
      "Dimensiones del dataset: \n",
      "Numero de filas del conjunto de datos: 1338 filas \n",
      "Numero de columnas del conjunto de datos: 9 columnas\n"
     ]
    },
    {
     "data": {
      "text/html": [
       "<div>\n",
       "<style scoped>\n",
       "    .dataframe tbody tr th:only-of-type {\n",
       "        vertical-align: middle;\n",
       "    }\n",
       "\n",
       "    .dataframe tbody tr th {\n",
       "        vertical-align: top;\n",
       "    }\n",
       "\n",
       "    .dataframe thead th {\n",
       "        text-align: right;\n",
       "    }\n",
       "</style>\n",
       "<table border=\"1\" class=\"dataframe\">\n",
       "  <thead>\n",
       "    <tr style=\"text-align: right;\">\n",
       "      <th></th>\n",
       "      <th>edad</th>\n",
       "      <th>sexo</th>\n",
       "      <th>imc</th>\n",
       "      <th>pasos</th>\n",
       "      <th>hijos</th>\n",
       "      <th>fumador</th>\n",
       "      <th>region</th>\n",
       "      <th>cargos</th>\n",
       "      <th>fugas</th>\n",
       "    </tr>\n",
       "  </thead>\n",
       "  <tbody>\n",
       "    <tr>\n",
       "      <th>0</th>\n",
       "      <td>19</td>\n",
       "      <td>0</td>\n",
       "      <td>27.900</td>\n",
       "      <td>3009</td>\n",
       "      <td>0</td>\n",
       "      <td>1</td>\n",
       "      <td>3</td>\n",
       "      <td>16884.92400</td>\n",
       "      <td>1</td>\n",
       "    </tr>\n",
       "    <tr>\n",
       "      <th>1</th>\n",
       "      <td>18</td>\n",
       "      <td>1</td>\n",
       "      <td>33.770</td>\n",
       "      <td>3008</td>\n",
       "      <td>1</td>\n",
       "      <td>0</td>\n",
       "      <td>2</td>\n",
       "      <td>1725.55230</td>\n",
       "      <td>1</td>\n",
       "    </tr>\n",
       "    <tr>\n",
       "      <th>2</th>\n",
       "      <td>28</td>\n",
       "      <td>1</td>\n",
       "      <td>33.000</td>\n",
       "      <td>3009</td>\n",
       "      <td>3</td>\n",
       "      <td>0</td>\n",
       "      <td>2</td>\n",
       "      <td>4449.46200</td>\n",
       "      <td>0</td>\n",
       "    </tr>\n",
       "    <tr>\n",
       "      <th>3</th>\n",
       "      <td>33</td>\n",
       "      <td>1</td>\n",
       "      <td>22.705</td>\n",
       "      <td>10009</td>\n",
       "      <td>0</td>\n",
       "      <td>0</td>\n",
       "      <td>1</td>\n",
       "      <td>21984.47061</td>\n",
       "      <td>0</td>\n",
       "    </tr>\n",
       "    <tr>\n",
       "      <th>4</th>\n",
       "      <td>32</td>\n",
       "      <td>1</td>\n",
       "      <td>28.880</td>\n",
       "      <td>8010</td>\n",
       "      <td>0</td>\n",
       "      <td>0</td>\n",
       "      <td>1</td>\n",
       "      <td>3866.85520</td>\n",
       "      <td>1</td>\n",
       "    </tr>\n",
       "  </tbody>\n",
       "</table>\n",
       "</div>"
      ],
      "text/plain": [
       "   edad  sexo     imc  pasos  hijos  fumador  region       cargos  fugas\n",
       "0    19     0  27.900   3009      0        1       3  16884.92400      1\n",
       "1    18     1  33.770   3008      1        0       2   1725.55230      1\n",
       "2    28     1  33.000   3009      3        0       2   4449.46200      0\n",
       "3    33     1  22.705  10009      0        0       1  21984.47061      0\n",
       "4    32     1  28.880   8010      0        0       1   3866.85520      1"
      ]
     },
     "execution_count": 5,
     "metadata": {},
     "output_type": "execute_result"
    }
   ],
   "source": [
    "# Descripcion de la forma (shape) de nuestro dataset\n",
    "print(f'Dimensiones del dataset: \\nNumero de filas del conjunto de datos: {df.shape[0]} filas \\nNumero de columnas del conjunto de datos: {df.shape[1]} columnas')\n",
    "df.head()"
   ]
  },
  {
   "cell_type": "markdown",
   "id": "6bd1cb04",
   "metadata": {},
   "source": [
    "## Tipo de cada columna\n",
    "\n",
    "En esta pieza de código se hace uso de la función info() sobre el dataset almacenado en el paso anterior en la variable de nombre df. El resultado nos arroja información relacionada a cada una de las columnas de los datos en análisis, el RangeIndex coincide con el resultado de el code snippet anterior, donde teníamos 1338 filas, y Data columns debería coincidir con el número total de columnas del dataset.\n",
    "En la tabla también puede notarse que el conteo total de valores nulos (Non-Null Count) para cada columna es igual al número total de filas, por lo tanto podemos deducir que el dataset no cuenta con valores nulos.\n",
    "En cuanto a los tipos de datos (columna Dtype) contamos solo con valores numéricos enteros (int64) y decimales (float64)."
   ]
  },
  {
   "cell_type": "code",
   "execution_count": 6,
   "id": "5ea9d1f1",
   "metadata": {},
   "outputs": [
    {
     "name": "stdout",
     "output_type": "stream",
     "text": [
      "<class 'pandas.core.frame.DataFrame'>\n",
      "RangeIndex: 1338 entries, 0 to 1337\n",
      "Data columns (total 9 columns):\n",
      " #   Column   Non-Null Count  Dtype  \n",
      "---  ------   --------------  -----  \n",
      " 0   edad     1338 non-null   int64  \n",
      " 1   sexo     1338 non-null   int64  \n",
      " 2   imc      1338 non-null   float64\n",
      " 3   pasos    1338 non-null   int64  \n",
      " 4   hijos    1338 non-null   int64  \n",
      " 5   fumador  1338 non-null   int64  \n",
      " 6   region   1338 non-null   int64  \n",
      " 7   cargos   1338 non-null   float64\n",
      " 8   fugas    1338 non-null   int64  \n",
      "dtypes: float64(2), int64(7)\n",
      "memory usage: 94.2 KB\n"
     ]
    }
   ],
   "source": [
    "# Tipo de cada columna\n",
    "# ==============================================================================\n",
    "# Non-Null Count hace referencia\n",
    "# al conteo total de valores no nulos\n",
    "# dtypes al tipo de dato\n",
    "df.info()"
   ]
  },
  {
   "cell_type": "code",
   "execution_count": 7,
   "id": "3693c845",
   "metadata": {},
   "outputs": [],
   "source": [
    "#df = datos.copy()\n",
    "#df.insert(1,'precio_dls',df.apply(lambda x: \"{:,}\".format(x['precio']), axis=1))\n",
    "#df.insert(5,'precio_terreno_dls',df.apply(lambda x: \"{:,}\".format(x['precio_terreno']), axis=1))\n",
    "#df.head()"
   ]
  },
  {
   "cell_type": "markdown",
   "id": "a241acfd",
   "metadata": {},
   "source": [
    "### Diccionario de datos"
   ]
  },
  {
   "cell_type": "markdown",
   "id": "c3cac3c7",
   "metadata": {},
   "source": [
    "\n",
    "  * edad: edad del titular de la póliza \n",
    "  * sexo: género titular de la póliza (femenino=0, masculino=1)\n",
    "  * imc: Índice de masa corporal, que proporciona una comprensión del cuerpo, pesos relativamente altos o bajos en      relación con la altura, índice objetivo de peso corporal (kg / m ^ 2) utilizando la relación entre la altura y el peso, idealmente 18,5 a 25\n",
    "  * pasos: pasos de caminata promedio por día del asegurado\n",
    "  * hijos: número de hijos / dependientes del asegurado\n",
    "  * fumador: estado de tabaquismo del asegurado (no fumador = 0; fumador = 1)\n",
    "  * region: el área residencial del asegurado en los EE. UU. (northeast=0, northwest=1, southeast=2, southwest=3)\n",
    "  * cargos: costos médicos individuales facturados por el seguro médico\n",
    "  * fugas: si=1, no=0"
   ]
  },
  {
   "cell_type": "code",
   "execution_count": null,
   "id": "3280d9c8",
   "metadata": {},
   "outputs": [],
   "source": []
  },
  {
   "cell_type": "markdown",
   "id": "c2a12746",
   "metadata": {},
   "source": [
    "También podemos chequear los tipos de datos de nuestro dataframe, aplicando la funcion _dtypes_ de pandas"
   ]
  },
  {
   "cell_type": "code",
   "execution_count": 8,
   "id": "fd418481",
   "metadata": {},
   "outputs": [
    {
     "data": {
      "text/plain": [
       "edad         int64\n",
       "sexo         int64\n",
       "imc        float64\n",
       "pasos        int64\n",
       "hijos        int64\n",
       "fumador      int64\n",
       "region       int64\n",
       "cargos     float64\n",
       "fugas        int64\n",
       "dtype: object"
      ]
     },
     "execution_count": 8,
     "metadata": {},
     "output_type": "execute_result"
    }
   ],
   "source": [
    "df.dtypes"
   ]
  },
  {
   "cell_type": "markdown",
   "id": "4a2d73d3",
   "metadata": {},
   "source": [
    "### Número de observaciones y valores ausentes\n",
    "\n",
    "En conjunto con el estudio del tipo de datos (variables), resulta un factor clave conocer el número de observaciones de las que disponemos y si todas ellas están completas. Los valores ausentes son por demás importantes a la hora de crear modelos predictivos, ya que la mayoría de los algoritmos utilizados para estos fines no aceptan observaciones incompletas o bien se ven muy influenciados por ellas. \n",
    "Las labores de imputación de valores ausentes forma parte de la fase de preprocesamiento y, por lo tanto, toda identificación y posterior imputación en los datos (en caso de existir valores ausentes) debe realizarse antes de separar los datos en conjuntos de entrenamiento (train) y test, de esta forma estaremos seguros de que se establecieron todas las estrategias de imputación necesarias sobre el dataset.\n",
    "A través de la siguiente forma detectaremos la cantidad de valores ausentes por variable en un dataset:\n"
   ]
  },
  {
   "cell_type": "code",
   "execution_count": 9,
   "id": "6761a350",
   "metadata": {},
   "outputs": [
    {
     "data": {
      "text/plain": [
       "edad       0\n",
       "sexo       0\n",
       "imc        0\n",
       "pasos      0\n",
       "hijos      0\n",
       "fumador    0\n",
       "region     0\n",
       "cargos     0\n",
       "fugas      0\n",
       "dtype: int64"
      ]
     },
     "execution_count": 9,
     "metadata": {},
     "output_type": "execute_result"
    }
   ],
   "source": [
    "# Número de datos ausentes por variable\n",
    "# ==============================================================================\n",
    "df.isna().sum().sort_values()"
   ]
  },
  {
   "cell_type": "markdown",
   "id": "e35f1349",
   "metadata": {},
   "source": [
    "### Analisis de las variables numéricas\n",
    "\n",
    "Para comenzar a realizar un análisis de las variables numéricas en nuestro dataset, nos percatamos que en descripciones anteriores la totalidad de las columnas son de tipo numérico, es decir, enteros (int64) y decimales (float64), pero de ellas tendremos algunas para las cuales no tiene mucho sentido obtener los estadísticos básicos que calcularemos en los pasos siguientes, como lo son la media, la desviación estándar, valores mínimos y máximos y cuartiles. \n",
    "Las variables que aplicaremos una transformacion seran: sexo, fumador, region y reclamos, de ellas todas excepto la regio, representan valores enteros, pero a su vez se expresan en el dataset como booleanos (0 o 1), por tanto seran de mas utilidad para su posterior análisis y procesamiento, siendo de tipo object.\n",
    "\n",
    "##### Transformacion de variables:"
   ]
  },
  {
   "cell_type": "code",
   "execution_count": 10,
   "id": "58386fa9",
   "metadata": {},
   "outputs": [
    {
     "data": {
      "text/html": [
       "<div>\n",
       "<style scoped>\n",
       "    .dataframe tbody tr th:only-of-type {\n",
       "        vertical-align: middle;\n",
       "    }\n",
       "\n",
       "    .dataframe tbody tr th {\n",
       "        vertical-align: top;\n",
       "    }\n",
       "\n",
       "    .dataframe thead th {\n",
       "        text-align: right;\n",
       "    }\n",
       "</style>\n",
       "<table border=\"1\" class=\"dataframe\">\n",
       "  <thead>\n",
       "    <tr style=\"text-align: right;\">\n",
       "      <th></th>\n",
       "      <th>edad</th>\n",
       "      <th>sexo</th>\n",
       "      <th>imc</th>\n",
       "      <th>pasos</th>\n",
       "      <th>hijos</th>\n",
       "      <th>fumador</th>\n",
       "      <th>region</th>\n",
       "      <th>cargos</th>\n",
       "      <th>fugas</th>\n",
       "    </tr>\n",
       "  </thead>\n",
       "  <tbody>\n",
       "    <tr>\n",
       "      <th>0</th>\n",
       "      <td>19</td>\n",
       "      <td>fem</td>\n",
       "      <td>27.900</td>\n",
       "      <td>3009</td>\n",
       "      <td>0</td>\n",
       "      <td>si</td>\n",
       "      <td>southwest</td>\n",
       "      <td>16884.92400</td>\n",
       "      <td>si</td>\n",
       "    </tr>\n",
       "    <tr>\n",
       "      <th>1</th>\n",
       "      <td>18</td>\n",
       "      <td>masc</td>\n",
       "      <td>33.770</td>\n",
       "      <td>3008</td>\n",
       "      <td>1</td>\n",
       "      <td>no</td>\n",
       "      <td>southeast</td>\n",
       "      <td>1725.55230</td>\n",
       "      <td>si</td>\n",
       "    </tr>\n",
       "    <tr>\n",
       "      <th>2</th>\n",
       "      <td>28</td>\n",
       "      <td>masc</td>\n",
       "      <td>33.000</td>\n",
       "      <td>3009</td>\n",
       "      <td>3</td>\n",
       "      <td>no</td>\n",
       "      <td>southeast</td>\n",
       "      <td>4449.46200</td>\n",
       "      <td>no</td>\n",
       "    </tr>\n",
       "    <tr>\n",
       "      <th>3</th>\n",
       "      <td>33</td>\n",
       "      <td>masc</td>\n",
       "      <td>22.705</td>\n",
       "      <td>10009</td>\n",
       "      <td>0</td>\n",
       "      <td>no</td>\n",
       "      <td>northwest</td>\n",
       "      <td>21984.47061</td>\n",
       "      <td>no</td>\n",
       "    </tr>\n",
       "    <tr>\n",
       "      <th>4</th>\n",
       "      <td>32</td>\n",
       "      <td>masc</td>\n",
       "      <td>28.880</td>\n",
       "      <td>8010</td>\n",
       "      <td>0</td>\n",
       "      <td>no</td>\n",
       "      <td>northwest</td>\n",
       "      <td>3866.85520</td>\n",
       "      <td>si</td>\n",
       "    </tr>\n",
       "  </tbody>\n",
       "</table>\n",
       "</div>"
      ],
      "text/plain": [
       "   edad  sexo     imc  pasos  hijos fumador     region       cargos fugas\n",
       "0    19   fem  27.900   3009      0      si  southwest  16884.92400    si\n",
       "1    18  masc  33.770   3008      1      no  southeast   1725.55230    si\n",
       "2    28  masc  33.000   3009      3      no  southeast   4449.46200    no\n",
       "3    33  masc  22.705  10009      0      no  northwest  21984.47061    no\n",
       "4    32  masc  28.880   8010      0      no  northwest   3866.85520    si"
      ]
     },
     "execution_count": 10,
     "metadata": {},
     "output_type": "execute_result"
    }
   ],
   "source": [
    "# Se arma un diccionario para cada variable \n",
    "# en la cual queremos reemplazar los valores\n",
    "sexos = {0:\"fem\", 1:\"masc\"}\n",
    "fumadores = {0:\"no\", 1:\"si\"}\n",
    "regiones = {0:\"northeast\", 1:\"northwest\", 2:\"southeast\", 3:\"southwest\"}\n",
    "fugas = {0:\"no\",1:\"si\"}\n",
    "\n",
    "# Aplicamos los cambios en las columnas sexo, fumador, \n",
    "# region y reclamo sobre una copia del dataset\n",
    "# para no afectar el original\n",
    "df1 = df.copy()\n",
    "df1.replace({\"sexo\":sexos},inplace=True)\n",
    "df1.replace({\"fumador\":fumadores},inplace=True)\n",
    "df1.replace({\"region\":regiones},inplace=True)\n",
    "df1.replace({\"fugas\":fugas},inplace=True)\n",
    "df1.head()"
   ]
  },
  {
   "cell_type": "code",
   "execution_count": null,
   "id": "81b4a946",
   "metadata": {},
   "outputs": [],
   "source": []
  },
  {
   "cell_type": "markdown",
   "id": "149e7cae",
   "metadata": {},
   "source": [
    "Chequeando la informacion del nuevo dataframe _df1_"
   ]
  },
  {
   "cell_type": "code",
   "execution_count": 11,
   "id": "5548c7ab",
   "metadata": {},
   "outputs": [
    {
     "name": "stdout",
     "output_type": "stream",
     "text": [
      "<class 'pandas.core.frame.DataFrame'>\n",
      "RangeIndex: 1338 entries, 0 to 1337\n",
      "Data columns (total 9 columns):\n",
      " #   Column   Non-Null Count  Dtype  \n",
      "---  ------   --------------  -----  \n",
      " 0   edad     1338 non-null   int64  \n",
      " 1   sexo     1338 non-null   object \n",
      " 2   imc      1338 non-null   float64\n",
      " 3   pasos    1338 non-null   int64  \n",
      " 4   hijos    1338 non-null   int64  \n",
      " 5   fumador  1338 non-null   object \n",
      " 6   region   1338 non-null   object \n",
      " 7   cargos   1338 non-null   float64\n",
      " 8   fugas    1338 non-null   object \n",
      "dtypes: float64(2), int64(3), object(4)\n",
      "memory usage: 94.2+ KB\n"
     ]
    }
   ],
   "source": [
    "# Tipo de cada columna\n",
    "# ==============================================================================\n",
    "# En pandas, el tipo \"object\" hace referencia a strings\n",
    "# datos.dtypes\n",
    "df1.info()"
   ]
  },
  {
   "cell_type": "markdown",
   "id": "85bfc0aa",
   "metadata": {},
   "source": [
    "A través de la siguiente pieza de código seleccionamos de nuestro nuevo dataset transformado df1, únicamente las variables numericas, y le aplicaremos las funcion _describe()_ con la cual obtendremos estadísticos sobre las mismas."
   ]
  },
  {
   "cell_type": "code",
   "execution_count": 12,
   "id": "49d31a55",
   "metadata": {},
   "outputs": [
    {
     "data": {
      "text/html": [
       "<div>\n",
       "<style scoped>\n",
       "    .dataframe tbody tr th:only-of-type {\n",
       "        vertical-align: middle;\n",
       "    }\n",
       "\n",
       "    .dataframe tbody tr th {\n",
       "        vertical-align: top;\n",
       "    }\n",
       "\n",
       "    .dataframe thead th {\n",
       "        text-align: right;\n",
       "    }\n",
       "</style>\n",
       "<table border=\"1\" class=\"dataframe\">\n",
       "  <thead>\n",
       "    <tr style=\"text-align: right;\">\n",
       "      <th></th>\n",
       "      <th>edad</th>\n",
       "      <th>imc</th>\n",
       "      <th>pasos</th>\n",
       "      <th>hijos</th>\n",
       "      <th>cargos</th>\n",
       "    </tr>\n",
       "  </thead>\n",
       "  <tbody>\n",
       "    <tr>\n",
       "      <th>count</th>\n",
       "      <td>1338.000000</td>\n",
       "      <td>1338.000000</td>\n",
       "      <td>1338.000000</td>\n",
       "      <td>1338.000000</td>\n",
       "      <td>1338.000000</td>\n",
       "    </tr>\n",
       "    <tr>\n",
       "      <th>mean</th>\n",
       "      <td>39.207025</td>\n",
       "      <td>30.663397</td>\n",
       "      <td>5328.623318</td>\n",
       "      <td>1.094918</td>\n",
       "      <td>13270.422265</td>\n",
       "    </tr>\n",
       "    <tr>\n",
       "      <th>std</th>\n",
       "      <td>14.049960</td>\n",
       "      <td>6.098187</td>\n",
       "      <td>2453.643236</td>\n",
       "      <td>1.205493</td>\n",
       "      <td>12110.011237</td>\n",
       "    </tr>\n",
       "    <tr>\n",
       "      <th>min</th>\n",
       "      <td>18.000000</td>\n",
       "      <td>15.960000</td>\n",
       "      <td>3000.000000</td>\n",
       "      <td>0.000000</td>\n",
       "      <td>1121.873900</td>\n",
       "    </tr>\n",
       "    <tr>\n",
       "      <th>25%</th>\n",
       "      <td>27.000000</td>\n",
       "      <td>26.296250</td>\n",
       "      <td>3008.000000</td>\n",
       "      <td>0.000000</td>\n",
       "      <td>4740.287150</td>\n",
       "    </tr>\n",
       "    <tr>\n",
       "      <th>50%</th>\n",
       "      <td>39.000000</td>\n",
       "      <td>30.400000</td>\n",
       "      <td>4007.000000</td>\n",
       "      <td>1.000000</td>\n",
       "      <td>9382.033000</td>\n",
       "    </tr>\n",
       "    <tr>\n",
       "      <th>75%</th>\n",
       "      <td>51.000000</td>\n",
       "      <td>34.693750</td>\n",
       "      <td>8004.000000</td>\n",
       "      <td>2.000000</td>\n",
       "      <td>16639.912515</td>\n",
       "    </tr>\n",
       "    <tr>\n",
       "      <th>max</th>\n",
       "      <td>64.000000</td>\n",
       "      <td>53.130000</td>\n",
       "      <td>10010.000000</td>\n",
       "      <td>5.000000</td>\n",
       "      <td>63770.428010</td>\n",
       "    </tr>\n",
       "  </tbody>\n",
       "</table>\n",
       "</div>"
      ],
      "text/plain": [
       "              edad          imc         pasos        hijos        cargos\n",
       "count  1338.000000  1338.000000   1338.000000  1338.000000   1338.000000\n",
       "mean     39.207025    30.663397   5328.623318     1.094918  13270.422265\n",
       "std      14.049960     6.098187   2453.643236     1.205493  12110.011237\n",
       "min      18.000000    15.960000   3000.000000     0.000000   1121.873900\n",
       "25%      27.000000    26.296250   3008.000000     0.000000   4740.287150\n",
       "50%      39.000000    30.400000   4007.000000     1.000000   9382.033000\n",
       "75%      51.000000    34.693750   8004.000000     2.000000  16639.912515\n",
       "max      64.000000    53.130000  10010.000000     5.000000  63770.428010"
      ]
     },
     "execution_count": 12,
     "metadata": {},
     "output_type": "execute_result"
    }
   ],
   "source": [
    "# Variables numéricas\n",
    "# ==============================================================================\n",
    "df1.select_dtypes(include=['float64','int64']).describe()"
   ]
  },
  {
   "cell_type": "markdown",
   "id": "c3bbaf89",
   "metadata": {},
   "source": [
    "Con la siguiente pieza de código detectamos cuales son las columnas con valores NaN en el dataframe"
   ]
  },
  {
   "cell_type": "code",
   "execution_count": 13,
   "id": "57077e76",
   "metadata": {},
   "outputs": [],
   "source": [
    "## Here we will check the percentage of nan values present in each feature\n",
    "## 1 -step make the list of features which has missing values\n",
    "features_with_na=[features for features in df.columns if df[features].isnull().sum()>1]\n",
    "## 2- step print the feature name and the percentage of missing values\n",
    "\n",
    "for feature in features_with_na:\n",
    "    print(feature, np.round(df[feature].isnull().mean(), 4),  ' % missing values')"
   ]
  },
  {
   "cell_type": "markdown",
   "id": "9a9ea5cc",
   "metadata": {},
   "source": [
    "A través del siguiente conjunto de gráficas analizaremos la distribución normal de nuestras variables numéricas, con excepción de los cargos, la cual retomaremos en un posterior análisis."
   ]
  },
  {
   "cell_type": "code",
   "execution_count": 14,
   "id": "5e0b6551",
   "metadata": {},
   "outputs": [
    {
     "data": {
      "image/png": "[encoded data removed]",
      "text/plain": [
       "<Figure size 1008x576 with 4 Axes>"
      ]
     },
     "metadata": {},
     "output_type": "display_data"
    }
   ],
   "source": [
    "# Gráfico de distribución para cada variable numérica\n",
    "# ==============================================================================\n",
    "# Ajustar número de subplots en función del número de columnas\n",
    "fig, axes = plt.subplots(nrows=2, ncols=2, figsize=(14, 8))\n",
    "axes = axes.flat\n",
    "columnas_numeric = df1.select_dtypes(include=['float64', 'int64']).columns\n",
    "columnas_numeric = columnas_numeric.drop('cargos')\n",
    "\n",
    "# Se establecen los parámetros de la gráfica\n",
    "for i, colum in enumerate(columnas_numeric):\n",
    "    sns.histplot(\n",
    "        data    = df1,\n",
    "        x       = colum,\n",
    "        stat    = \"count\",\n",
    "        kde     = True,\n",
    "        color   = (list(plt.rcParams['axes.prop_cycle'])*2)[i][\"color\"],\n",
    "        line_kws= {'linewidth': 2},\n",
    "        alpha   = 0.3,\n",
    "        ax      = axes[i]\n",
    "    )\n",
    "    axes[i].set_title(colum, fontsize = 7, fontweight = \"bold\")\n",
    "    axes[i].tick_params(labelsize = 6)\n",
    "    axes[i].set_xlabel(\"\")\n",
    "\n",
    "\n",
    "fig.tight_layout()\n",
    "plt.subplots_adjust(top = 0.9)\n",
    "fig.suptitle('Distribución normal de las variables numéricas', fontsize = 10, fontweight = \"bold\");"
   ]
  },
  {
   "cell_type": "code",
   "execution_count": null,
   "id": "a9c95025",
   "metadata": {},
   "outputs": [],
   "source": []
  },
  {
   "cell_type": "markdown",
   "id": "548f20e3",
   "metadata": {},
   "source": [
    "### Correlación variables numéricas"
   ]
  },
  {
   "cell_type": "code",
   "execution_count": 15,
   "id": "5b389223",
   "metadata": {},
   "outputs": [
    {
     "data": {
      "text/html": [
       "<div>\n",
       "<style scoped>\n",
       "    .dataframe tbody tr th:only-of-type {\n",
       "        vertical-align: middle;\n",
       "    }\n",
       "\n",
       "    .dataframe tbody tr th {\n",
       "        vertical-align: top;\n",
       "    }\n",
       "\n",
       "    .dataframe thead th {\n",
       "        text-align: right;\n",
       "    }\n",
       "</style>\n",
       "<table border=\"1\" class=\"dataframe\">\n",
       "  <thead>\n",
       "    <tr style=\"text-align: right;\">\n",
       "      <th></th>\n",
       "      <th>variable_1</th>\n",
       "      <th>variable_2</th>\n",
       "      <th>r</th>\n",
       "      <th>abs_r</th>\n",
       "    </tr>\n",
       "  </thead>\n",
       "  <tbody>\n",
       "    <tr>\n",
       "      <th>7</th>\n",
       "      <td>imc</td>\n",
       "      <td>pasos</td>\n",
       "      <td>-0.681149</td>\n",
       "      <td>0.681149</td>\n",
       "    </tr>\n",
       "    <tr>\n",
       "      <th>11</th>\n",
       "      <td>pasos</td>\n",
       "      <td>imc</td>\n",
       "      <td>-0.681149</td>\n",
       "      <td>0.681149</td>\n",
       "    </tr>\n",
       "    <tr>\n",
       "      <th>22</th>\n",
       "      <td>cargos</td>\n",
       "      <td>pasos</td>\n",
       "      <td>-0.305570</td>\n",
       "      <td>0.305570</td>\n",
       "    </tr>\n",
       "    <tr>\n",
       "      <th>14</th>\n",
       "      <td>pasos</td>\n",
       "      <td>cargos</td>\n",
       "      <td>-0.305570</td>\n",
       "      <td>0.305570</td>\n",
       "    </tr>\n",
       "    <tr>\n",
       "      <th>4</th>\n",
       "      <td>edad</td>\n",
       "      <td>cargos</td>\n",
       "      <td>0.299008</td>\n",
       "      <td>0.299008</td>\n",
       "    </tr>\n",
       "    <tr>\n",
       "      <th>20</th>\n",
       "      <td>cargos</td>\n",
       "      <td>edad</td>\n",
       "      <td>0.299008</td>\n",
       "      <td>0.299008</td>\n",
       "    </tr>\n",
       "    <tr>\n",
       "      <th>21</th>\n",
       "      <td>cargos</td>\n",
       "      <td>imc</td>\n",
       "      <td>0.198341</td>\n",
       "      <td>0.198341</td>\n",
       "    </tr>\n",
       "    <tr>\n",
       "      <th>9</th>\n",
       "      <td>imc</td>\n",
       "      <td>cargos</td>\n",
       "      <td>0.198341</td>\n",
       "      <td>0.198341</td>\n",
       "    </tr>\n",
       "    <tr>\n",
       "      <th>10</th>\n",
       "      <td>pasos</td>\n",
       "      <td>edad</td>\n",
       "      <td>-0.167957</td>\n",
       "      <td>0.167957</td>\n",
       "    </tr>\n",
       "    <tr>\n",
       "      <th>2</th>\n",
       "      <td>edad</td>\n",
       "      <td>pasos</td>\n",
       "      <td>-0.167957</td>\n",
       "      <td>0.167957</td>\n",
       "    </tr>\n",
       "  </tbody>\n",
       "</table>\n",
       "</div>"
      ],
      "text/plain": [
       "   variable_1 variable_2         r     abs_r\n",
       "7         imc      pasos -0.681149  0.681149\n",
       "11      pasos        imc -0.681149  0.681149\n",
       "22     cargos      pasos -0.305570  0.305570\n",
       "14      pasos     cargos -0.305570  0.305570\n",
       "4        edad     cargos  0.299008  0.299008\n",
       "20     cargos       edad  0.299008  0.299008\n",
       "21     cargos        imc  0.198341  0.198341\n",
       "9         imc     cargos  0.198341  0.198341\n",
       "10      pasos       edad -0.167957  0.167957\n",
       "2        edad      pasos -0.167957  0.167957"
      ]
     },
     "execution_count": 15,
     "metadata": {},
     "output_type": "execute_result"
    }
   ],
   "source": [
    "# Correlación entre columnas numéricas\n",
    "# ==============================================================================\n",
    "\n",
    "def tidy_corr_matrix(corr_mat):\n",
    "    '''\n",
    "    Función para convertir una matrix de correlación de pandas en formato tidy\n",
    "    '''\n",
    "    corr_mat = corr_mat.stack().reset_index()\n",
    "    corr_mat.columns = ['variable_1','variable_2','r']\n",
    "    corr_mat = corr_mat.loc[corr_mat['variable_1'] != corr_mat['variable_2'], :]\n",
    "    corr_mat['abs_r'] = np.abs(corr_mat['r'])\n",
    "    corr_mat = corr_mat.sort_values('abs_r', ascending=False)\n",
    "    \n",
    "    return(corr_mat)\n",
    "\n",
    "corr_matrix = df1.select_dtypes(include=['float64', 'int64']).corr(method='pearson')\n",
    "tidy_corr_matrix(corr_matrix).head(10)"
   ]
  },
  {
   "cell_type": "code",
   "execution_count": 16,
   "id": "6bc2a740",
   "metadata": {},
   "outputs": [
    {
     "data": {
      "text/html": [
       "<div>\n",
       "<style scoped>\n",
       "    .dataframe tbody tr th:only-of-type {\n",
       "        vertical-align: middle;\n",
       "    }\n",
       "\n",
       "    .dataframe tbody tr th {\n",
       "        vertical-align: top;\n",
       "    }\n",
       "\n",
       "    .dataframe thead th {\n",
       "        text-align: right;\n",
       "    }\n",
       "</style>\n",
       "<table border=\"1\" class=\"dataframe\">\n",
       "  <thead>\n",
       "    <tr style=\"text-align: right;\">\n",
       "      <th></th>\n",
       "      <th>edad</th>\n",
       "      <th>imc</th>\n",
       "      <th>pasos</th>\n",
       "      <th>hijos</th>\n",
       "      <th>cargos</th>\n",
       "    </tr>\n",
       "  </thead>\n",
       "  <tbody>\n",
       "    <tr>\n",
       "      <th>edad</th>\n",
       "      <td>1.000000</td>\n",
       "      <td>0.109272</td>\n",
       "      <td>-0.167957</td>\n",
       "      <td>0.042469</td>\n",
       "      <td>0.299008</td>\n",
       "    </tr>\n",
       "    <tr>\n",
       "      <th>imc</th>\n",
       "      <td>0.109272</td>\n",
       "      <td>1.000000</td>\n",
       "      <td>-0.681149</td>\n",
       "      <td>0.012759</td>\n",
       "      <td>0.198341</td>\n",
       "    </tr>\n",
       "    <tr>\n",
       "      <th>pasos</th>\n",
       "      <td>-0.167957</td>\n",
       "      <td>-0.681149</td>\n",
       "      <td>1.000000</td>\n",
       "      <td>0.055346</td>\n",
       "      <td>-0.305570</td>\n",
       "    </tr>\n",
       "    <tr>\n",
       "      <th>hijos</th>\n",
       "      <td>0.042469</td>\n",
       "      <td>0.012759</td>\n",
       "      <td>0.055346</td>\n",
       "      <td>1.000000</td>\n",
       "      <td>0.067998</td>\n",
       "    </tr>\n",
       "    <tr>\n",
       "      <th>cargos</th>\n",
       "      <td>0.299008</td>\n",
       "      <td>0.198341</td>\n",
       "      <td>-0.305570</td>\n",
       "      <td>0.067998</td>\n",
       "      <td>1.000000</td>\n",
       "    </tr>\n",
       "  </tbody>\n",
       "</table>\n",
       "</div>"
      ],
      "text/plain": [
       "            edad       imc     pasos     hijos    cargos\n",
       "edad    1.000000  0.109272 -0.167957  0.042469  0.299008\n",
       "imc     0.109272  1.000000 -0.681149  0.012759  0.198341\n",
       "pasos  -0.167957 -0.681149  1.000000  0.055346 -0.305570\n",
       "hijos   0.042469  0.012759  0.055346  1.000000  0.067998\n",
       "cargos  0.299008  0.198341 -0.305570  0.067998  1.000000"
      ]
     },
     "execution_count": 16,
     "metadata": {},
     "output_type": "execute_result"
    }
   ],
   "source": [
    "corr_matrix"
   ]
  },
  {
   "cell_type": "code",
   "execution_count": 17,
   "id": "2be48fd1",
   "metadata": {},
   "outputs": [
    {
     "data": {
      "image/png": "[encoded data removed]",
      "text/plain": [
       "<Figure size 720x576 with 2 Axes>"
      ]
     },
     "metadata": {},
     "output_type": "display_data"
    }
   ],
   "source": [
    "# Heatmap matriz de correlaciones\n",
    "# Librería Matplotlib\n",
    "# ==============================================================================\n",
    "CoeffMatrix = corr_matrix.corr()\n",
    "\n",
    "plt.figure(figsize = (10, 8))\n",
    "sns.heatmap(\n",
    "    data=CoeffMatrix,\n",
    "    annot_kws = {\"size\": 12},\n",
    "    vmin      = -1,\n",
    "    vmax      = 1,\n",
    "    center    = 0,\n",
    "    cmap='YlGnBu', \n",
    "    annot=True)\n",
    "\n",
    "plt.title('Insurance Data Coefficient Matrix')\n",
    "plt.show()"
   ]
  },
  {
   "cell_type": "code",
   "execution_count": null,
   "id": "9a83c13a",
   "metadata": {},
   "outputs": [],
   "source": []
  },
  {
   "cell_type": "code",
   "execution_count": null,
   "id": "90b70d15",
   "metadata": {},
   "outputs": [],
   "source": []
  },
  {
   "cell_type": "code",
   "execution_count": 18,
   "id": "d060616d",
   "metadata": {},
   "outputs": [
    {
     "data": {
      "image/png": "[encoded data removed]",
      "text/plain": [
       "<Figure size 864x432 with 4 Axes>"
      ]
     },
     "metadata": {},
     "output_type": "display_data"
    }
   ],
   "source": [
    "# Gráfico de distribución para cada variable numérica\n",
    "# ==============================================================================\n",
    "# Ajustar número de subplots en función del número de columnas\n",
    "fig, axes = plt.subplots(nrows=2, ncols=2, figsize=(12, 6))\n",
    "axes = axes.flat\n",
    "columnas_numeric = df1.select_dtypes(include=['float64', 'int64']).columns\n",
    "columnas_numeric = columnas_numeric.drop('cargos')\n",
    "\n",
    "for i, colum in enumerate(columnas_numeric):\n",
    "    sns.regplot(\n",
    "        x           = df1[colum],\n",
    "        y           = df['cargos'],\n",
    "        color       = \"gray\",\n",
    "        marker      = '.',\n",
    "        scatter_kws = {\"alpha\":0.4},\n",
    "        line_kws    = {\"color\":\"r\",\"alpha\":0.7},\n",
    "        ax          = axes[i]\n",
    "    )\n",
    "    axes[i].set_title(f\"cargos vs {colum}\", fontsize = 7, fontweight = \"bold\")\n",
    "    axes[i].ticklabel_format(style='sci', scilimits=(-4,4), axis='both')\n",
    "    axes[i].yaxis.set_major_formatter(ticker.EngFormatter())\n",
    "    axes[i].xaxis.set_major_formatter(ticker.EngFormatter())\n",
    "    axes[i].tick_params(labelsize = 6)\n",
    "    axes[i].set_xlabel(\"\")\n",
    "    axes[i].set_ylabel(\"\")\n",
    "\n",
    "# Se eliminan los axes vacíos\n",
    "#for i in [4]:\n",
    "#    fig.delaxes(axes[i])\n",
    "\n",
    "fig.tight_layout()\n",
    "plt.subplots_adjust(top=0.9)\n",
    "fig.suptitle('Cargos Correlation', fontsize = 10, fontweight = \"bold\");"
   ]
  },
  {
   "cell_type": "code",
   "execution_count": 19,
   "id": "dafb0efe",
   "metadata": {},
   "outputs": [
    {
     "data": {
      "text/plain": [
       "Index(['edad', 'imc', 'pasos', 'hijos'], dtype='object')"
      ]
     },
     "execution_count": 19,
     "metadata": {},
     "output_type": "execute_result"
    }
   ],
   "source": [
    "columnas_numeric"
   ]
  },
  {
   "cell_type": "code",
   "execution_count": null,
   "id": "9f15bfbf",
   "metadata": {},
   "outputs": [],
   "source": []
  },
  {
   "cell_type": "markdown",
   "id": "dcbe87f4",
   "metadata": {},
   "source": [
    "### Variables cualitativas\n",
    "\n",
    "Al analizar las variables cualitativas de nuestros datos, aplicamos la función describe() sólo sobre los tipos de datos no numéricos (object).\n"
   ]
  },
  {
   "cell_type": "code",
   "execution_count": 20,
   "id": "08a75194",
   "metadata": {},
   "outputs": [
    {
     "data": {
      "text/html": [
       "<div>\n",
       "<style scoped>\n",
       "    .dataframe tbody tr th:only-of-type {\n",
       "        vertical-align: middle;\n",
       "    }\n",
       "\n",
       "    .dataframe tbody tr th {\n",
       "        vertical-align: top;\n",
       "    }\n",
       "\n",
       "    .dataframe thead th {\n",
       "        text-align: right;\n",
       "    }\n",
       "</style>\n",
       "<table border=\"1\" class=\"dataframe\">\n",
       "  <thead>\n",
       "    <tr style=\"text-align: right;\">\n",
       "      <th></th>\n",
       "      <th>sexo</th>\n",
       "      <th>fumador</th>\n",
       "      <th>region</th>\n",
       "      <th>fugas</th>\n",
       "    </tr>\n",
       "  </thead>\n",
       "  <tbody>\n",
       "    <tr>\n",
       "      <th>count</th>\n",
       "      <td>1338</td>\n",
       "      <td>1338</td>\n",
       "      <td>1338</td>\n",
       "      <td>1338</td>\n",
       "    </tr>\n",
       "    <tr>\n",
       "      <th>unique</th>\n",
       "      <td>2</td>\n",
       "      <td>2</td>\n",
       "      <td>4</td>\n",
       "      <td>2</td>\n",
       "    </tr>\n",
       "    <tr>\n",
       "      <th>top</th>\n",
       "      <td>masc</td>\n",
       "      <td>no</td>\n",
       "      <td>southeast</td>\n",
       "      <td>si</td>\n",
       "    </tr>\n",
       "    <tr>\n",
       "      <th>freq</th>\n",
       "      <td>676</td>\n",
       "      <td>1064</td>\n",
       "      <td>364</td>\n",
       "      <td>783</td>\n",
       "    </tr>\n",
       "  </tbody>\n",
       "</table>\n",
       "</div>"
      ],
      "text/plain": [
       "        sexo fumador     region fugas\n",
       "count   1338    1338       1338  1338\n",
       "unique     2       2          4     2\n",
       "top     masc      no  southeast    si\n",
       "freq     676    1064        364   783"
      ]
     },
     "execution_count": 20,
     "metadata": {},
     "output_type": "execute_result"
    }
   ],
   "source": [
    "# Variables cualitativas (tipo object)\n",
    "# ==============================================================================\n",
    "df1.select_dtypes(include=['object']).describe()"
   ]
  },
  {
   "cell_type": "markdown",
   "id": "d30ad1af",
   "metadata": {},
   "source": [
    "En las gráficas siguientes debemos tener en cuenta que si existen variables que agrupen pocas observaciones en comparación con otros niveles de la misma, puede ocurrir que posteriormente en el proceso de validación cruzada, algunas particiones no contengan ninguna observación de dicha clase (varianza cero), lo cual puede dar lugar a errores. En estos casos, suele ser conveniente:\n",
    "\n",
    " * Eliminar las observaciones del grupo minoritario si es una variable multiclase.\n",
    " * Eliminar la variable si solo tiene dos niveles.\n",
    " * Agrupar los niveles minoritarios en un único grupo.\n",
    " * Asegurar que, en la creación de las particiones, todos los grupos estén representados en cada una de ellas.\n"
   ]
  },
  {
   "cell_type": "code",
   "execution_count": 21,
   "id": "bfb2a972",
   "metadata": {
    "scrolled": false
   },
   "outputs": [
    {
     "data": {
      "image/png": "[encoded data removed]",
      "text/plain": [
       "<Figure size 864x432 with 4 Axes>"
      ]
     },
     "metadata": {},
     "output_type": "display_data"
    }
   ],
   "source": [
    "# Gráfico para cada variable cualitativa\n",
    "# ==============================================================================\n",
    "# Ajustar número de subplots en función del número de columnas\n",
    "fig, axes = plt.subplots(nrows=2, ncols=2, figsize=(12, 6))\n",
    "axes = axes.flat\n",
    "columnas_object = df1.select_dtypes(include=['object']).columns\n",
    "\n",
    "for i, colum in enumerate(columnas_object):\n",
    "    df1[colum].value_counts().plot.barh(ax = axes[i])\n",
    "    axes[i].set_title(colum, fontsize = 7, fontweight = \"bold\")\n",
    "    axes[i].tick_params(labelsize = 6)\n",
    "    axes[i].set_xlabel(\"\")\n",
    "\n",
    "# Se eliminan los axes vacíos\n",
    "#for i in [7, 8]:\n",
    "#    fig.delaxes(axes[i])\n",
    "    \n",
    "fig.tight_layout()\n",
    "plt.subplots_adjust(top=0.9)\n",
    "fig.suptitle('Distribución variables cualitativas',\n",
    "             fontsize = 10, fontweight = \"bold\");\n"
   ]
  },
  {
   "cell_type": "markdown",
   "id": "a097cd17",
   "metadata": {},
   "source": [
    "A continuación validamos el conteo de los valores de la variable fumador."
   ]
  },
  {
   "cell_type": "code",
   "execution_count": 22,
   "id": "9b95a286",
   "metadata": {},
   "outputs": [
    {
     "data": {
      "text/plain": [
       "no    1064\n",
       "si     274\n",
       "Name: fumador, dtype: int64"
      ]
     },
     "execution_count": 22,
     "metadata": {},
     "output_type": "execute_result"
    }
   ],
   "source": [
    "df1.fumador.value_counts().sort_index()"
   ]
  },
  {
   "cell_type": "code",
   "execution_count": null,
   "id": "55ccfad8",
   "metadata": {},
   "outputs": [],
   "source": []
  },
  {
   "cell_type": "markdown",
   "id": "a1ac5a22",
   "metadata": {},
   "source": [
    "### Análisis de la variable respuesta\n",
    "\n",
    "Previo a la creación del modelo, es muy importante estudiar la distribución de la variable respuesta, ya que, a fin de cuentas, es lo que interesa predecir. En este caso nuestra variable respuesta resultan ser los valores almacenados en la columna _cargos_, la cual contiene los costos médicos individuales facturados por el seguro médico."
   ]
  },
  {
   "cell_type": "code",
   "execution_count": 23,
   "id": "bff4fd30",
   "metadata": {},
   "outputs": [
    {
     "data": {
      "image/png": "[encoded data removed]",
      "text/plain": [
       "<Figure size 720x720 with 3 Axes>"
      ]
     },
     "metadata": {},
     "output_type": "display_data"
    }
   ],
   "source": [
    "fig, axes = plt.subplots(nrows=3, ncols=1, figsize=(10, 10))\n",
    "\n",
    "# Plot 1\n",
    "sns.distplot(df.cargos,\n",
    "    hist    = False,\n",
    "    rug     = True,\n",
    "    color   = \"blue\",\n",
    "    kde_kws = {'shade': True, 'linewidth': 1},\n",
    "    ax      = axes[0]\n",
    ")\n",
    "axes[0].set_title(\"Distribución original\", fontsize = 'medium')\n",
    "axes[0].set_xlabel('cargos', fontsize='small')\n",
    "axes[0].tick_params(labelsize = 6)\n",
    "\n",
    "# Plot 2\n",
    "sns.distplot(np.sqrt(df.cargos),\n",
    "    hist    = False,\n",
    "    rug     = True,\n",
    "    color   = \"blue\",\n",
    "    kde_kws = {'shade': True, 'linewidth': 1},\n",
    "    ax      = axes[1]\n",
    ")\n",
    "axes[1].set_title(\"Transformación raíz cuadrada\", fontsize = 'medium')\n",
    "axes[1].set_xlabel('sqrt(cargos)', fontsize='small')\n",
    "axes[1].tick_params(labelsize = 6)\n",
    "\n",
    "# Plot 3\n",
    "sns.distplot(np.log(df.cargos),\n",
    "    hist    = False,\n",
    "    rug     = True,\n",
    "    color   = \"blue\",\n",
    "    kde_kws = {'shade': True, 'linewidth': 1},\n",
    "    ax      = axes[2]\n",
    ")\n",
    "axes[2].set_title(\"Transformación logarítmica\", fontsize = 'medium')\n",
    "axes[2].set_xlabel('log(cargos)', fontsize='small')\n",
    "axes[2].tick_params(labelsize = 6)\n",
    "\n",
    "fig.tight_layout()"
   ]
  },
  {
   "cell_type": "markdown",
   "id": "b2fa7476",
   "metadata": {},
   "source": [
    "La variable _cargos_ tiene una distribución asimétrica con una cola positiva debido a que, unas pocas viviendas, tienen un precio muy superior a la media. Este tipo de distribución suele visualizarse mejor tras aplicar el logarítmica o la raíz cuadrada.\n"
   ]
  },
  {
   "cell_type": "code",
   "execution_count": 24,
   "id": "720bbb3f",
   "metadata": {},
   "outputs": [
    {
     "name": "stdout",
     "output_type": "stream",
     "text": [
      "Estadisticas descriptivas de costos médicos \n",
      "=============================================\n",
      "count     1338.000000\n",
      "mean     13270.422265\n",
      "std      12110.011237\n",
      "min       1121.873900\n",
      "25%       4740.287150\n",
      "50%       9382.033000\n",
      "75%      16639.912515\n",
      "max      63770.428010\n",
      "Name: cargos, dtype: float64\n",
      "\n",
      "asimetria:  1.5141797118745743\n",
      "curtosis:  1.595821363956751\n",
      "valores nulos en 'cargos': 0\n",
      "valores nulos en 'fumador': 0\n"
     ]
    }
   ],
   "source": [
    "print(\"Estadisticas descriptivas de costos médicos \\n=============================================\")\n",
    "print(df['cargos'].describe())\n",
    "print(\"\\nasimetria:  {}\".format(skew(df['cargos'])))\n",
    "print(\"curtosis:  {}\".format(kurtosis(df['cargos'])))\n",
    "print(\"valores nulos en 'cargos': {}\".format(df['cargos'].isnull().sum()))\n",
    "print(\"valores nulos en 'fumador': {}\".format(df['fumador'].isnull().sum()))"
   ]
  },
  {
   "cell_type": "code",
   "execution_count": null,
   "id": "52059c1d",
   "metadata": {},
   "outputs": [],
   "source": []
  },
  {
   "cell_type": "code",
   "execution_count": 25,
   "id": "a6f7f6ae",
   "metadata": {},
   "outputs": [
    {
     "data": {
      "text/html": [
       "\n",
       "            <div style=\"float: left; border: 1px solid black; width:500px\">\n",
       "              <div id=\"6f9b2a94-8fc9-4be2-8ebe-4a2e6118f1b2\" style=\"background-color:blue; width:0%\">&nbsp;</div>\n",
       "            </div>\n",
       "            <label id=\"3287a692-c584-4fee-9a99-9f86bb9fdab3\" style=\"padding-left: 10px;\" text = \"\"/>\n",
       "            "
      ],
      "text/plain": [
       "<IPython.core.display.HTML object>"
      ]
     },
     "metadata": {},
     "output_type": "display_data"
    },
    {
     "data": {
      "text/html": [
       "<div>\n",
       "<style scoped>\n",
       "    .dataframe tbody tr th:only-of-type {\n",
       "        vertical-align: middle;\n",
       "    }\n",
       "\n",
       "    .dataframe tbody tr th {\n",
       "        vertical-align: top;\n",
       "    }\n",
       "\n",
       "    .dataframe thead th {\n",
       "        text-align: right;\n",
       "    }\n",
       "</style>\n",
       "<table border=\"1\" class=\"dataframe\">\n",
       "  <thead>\n",
       "    <tr style=\"text-align: right;\">\n",
       "      <th></th>\n",
       "      <th>sumsquare_error</th>\n",
       "      <th>aic</th>\n",
       "      <th>bic</th>\n",
       "      <th>kl_div</th>\n",
       "    </tr>\n",
       "  </thead>\n",
       "  <tbody>\n",
       "    <tr>\n",
       "      <th>expon</th>\n",
       "      <td>4.181004e-09</td>\n",
       "      <td>2400.680565</td>\n",
       "      <td>-35431.424030</td>\n",
       "      <td>inf</td>\n",
       "    </tr>\n",
       "    <tr>\n",
       "      <th>gamma</th>\n",
       "      <td>4.198320e-09</td>\n",
       "      <td>2402.165628</td>\n",
       "      <td>-35418.695006</td>\n",
       "      <td>inf</td>\n",
       "    </tr>\n",
       "    <tr>\n",
       "      <th>beta</th>\n",
       "      <td>4.420575e-09</td>\n",
       "      <td>2396.752013</td>\n",
       "      <td>-35342.474858</td>\n",
       "      <td>inf</td>\n",
       "    </tr>\n",
       "    <tr>\n",
       "      <th>exponpow</th>\n",
       "      <td>6.519830e-09</td>\n",
       "      <td>2426.671121</td>\n",
       "      <td>-34829.755890</td>\n",
       "      <td>inf</td>\n",
       "    </tr>\n",
       "    <tr>\n",
       "      <th>cauchy</th>\n",
       "      <td>1.386816e-08</td>\n",
       "      <td>2506.472483</td>\n",
       "      <td>-33827.103357</td>\n",
       "      <td>inf</td>\n",
       "    </tr>\n",
       "    <tr>\n",
       "      <th>powerlaw</th>\n",
       "      <td>1.876866e-08</td>\n",
       "      <td>2265.781957</td>\n",
       "      <td>-33415.034820</td>\n",
       "      <td>inf</td>\n",
       "    </tr>\n",
       "    <tr>\n",
       "      <th>logistic</th>\n",
       "      <td>2.042614e-08</td>\n",
       "      <td>2547.313130</td>\n",
       "      <td>-33309.002673</td>\n",
       "      <td>inf</td>\n",
       "    </tr>\n",
       "    <tr>\n",
       "      <th>norm</th>\n",
       "      <td>2.689521e-08</td>\n",
       "      <td>2542.161430</td>\n",
       "      <td>-32940.875358</td>\n",
       "      <td>inf</td>\n",
       "    </tr>\n",
       "    <tr>\n",
       "      <th>chi2</th>\n",
       "      <td>7.112011e-08</td>\n",
       "      <td>519815.706946</td>\n",
       "      <td>-31632.575712</td>\n",
       "      <td>3.009276</td>\n",
       "    </tr>\n",
       "  </tbody>\n",
       "</table>\n",
       "</div>"
      ],
      "text/plain": [
       "          sumsquare_error            aic           bic    kl_div\n",
       "expon        4.181004e-09    2400.680565 -35431.424030       inf\n",
       "gamma        4.198320e-09    2402.165628 -35418.695006       inf\n",
       "beta         4.420575e-09    2396.752013 -35342.474858       inf\n",
       "exponpow     6.519830e-09    2426.671121 -34829.755890       inf\n",
       "cauchy       1.386816e-08    2506.472483 -33827.103357       inf\n",
       "powerlaw     1.876866e-08    2265.781957 -33415.034820       inf\n",
       "logistic     2.042614e-08    2547.313130 -33309.002673       inf\n",
       "norm         2.689521e-08    2542.161430 -32940.875358       inf\n",
       "chi2         7.112011e-08  519815.706946 -31632.575712  3.009276"
      ]
     },
     "execution_count": 25,
     "metadata": {},
     "output_type": "execute_result"
    }
   ],
   "source": [
    "distribuciones = ['cauchy', 'chi2', 'expon',  'exponpow', 'gamma',\n",
    "                  'norm', 'powerlaw', 'beta', 'logistic']\n",
    "\n",
    "fitter = Fitter(df1.cargos, distributions=distribuciones)\n",
    "fitter.fit()\n",
    "fitter.summary(Nbest=10, plot=False)"
   ]
  },
  {
   "cell_type": "code",
   "execution_count": null,
   "id": "1ce84ad8",
   "metadata": {},
   "outputs": [],
   "source": []
  },
  {
   "cell_type": "code",
   "execution_count": null,
   "id": "a910a76e",
   "metadata": {},
   "outputs": [],
   "source": []
  },
  {
   "cell_type": "code",
   "execution_count": null,
   "id": "d13f2f72",
   "metadata": {},
   "outputs": [],
   "source": []
  },
  {
   "cell_type": "code",
   "execution_count": null,
   "id": "ca4943a5",
   "metadata": {},
   "outputs": [],
   "source": []
  },
  {
   "cell_type": "markdown",
   "id": "43b5731d",
   "metadata": {},
   "source": [
    "### División de los datos en train y test"
   ]
  },
  {
   "cell_type": "code",
   "execution_count": null,
   "id": "eb711b6c",
   "metadata": {},
   "outputs": [],
   "source": []
  },
  {
   "cell_type": "code",
   "execution_count": null,
   "id": "659a168a",
   "metadata": {},
   "outputs": [],
   "source": []
  },
  {
   "cell_type": "code",
   "execution_count": null,
   "id": "c15ce445",
   "metadata": {},
   "outputs": [],
   "source": []
  },
  {
   "cell_type": "code",
   "execution_count": null,
   "id": "6a9dff19",
   "metadata": {},
   "outputs": [],
   "source": []
  }
 ],
 "metadata": {
  "kernelspec": {
   "display_name": "Python 3",
   "language": "python",
   "name": "python3"
  },
  "language_info": {
   "codemirror_mode": {
    "name": "ipython",
    "version": 3
   },
   "file_extension": ".py",
   "mimetype": "text/x-python",
   "name": "python",
   "nbconvert_exporter": "python",
   "pygments_lexer": "ipython3",
   "version": "3.8.5"
  }
 },
 "nbformat": 4,
 "nbformat_minor": 5
}
